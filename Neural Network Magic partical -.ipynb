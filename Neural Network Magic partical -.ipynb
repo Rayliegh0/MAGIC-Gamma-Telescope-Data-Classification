{
 "cells": [
  {
   "cell_type": "markdown",
   "id": "f138fbe8-6bb2-4352-a963-82cd848f341f",
   "metadata": {},
   "source": [
    "# Importing libraries"
   ]
  },
  {
   "cell_type": "code",
   "execution_count": 2,
   "id": "34cbcbe0-64b9-4cce-aa1e-08021ae3e662",
   "metadata": {},
   "outputs": [],
   "source": [
    "import pandas as pd\n",
    "import numpy as np \n",
    "import matplotlib.pyplot as plt \n",
    "import seaborn as sns\n",
    "from sklearn.preprocessing import StandardScaler"
   ]
  },
  {
   "cell_type": "markdown",
   "id": "9e9c93ea-fce4-45dd-9907-f0990682f0b8",
   "metadata": {},
   "source": [
    "# Importing Dataset"
   ]
  },
  {
   "cell_type": "code",
   "execution_count": 4,
   "id": "a175ba73-65fc-4815-934a-5c2fa12fd574",
   "metadata": {},
   "outputs": [
    {
     "data": {
      "text/html": [
       "<div>\n",
       "<style scoped>\n",
       "    .dataframe tbody tr th:only-of-type {\n",
       "        vertical-align: middle;\n",
       "    }\n",
       "\n",
       "    .dataframe tbody tr th {\n",
       "        vertical-align: top;\n",
       "    }\n",
       "\n",
       "    .dataframe thead th {\n",
       "        text-align: right;\n",
       "    }\n",
       "</style>\n",
       "<table border=\"1\" class=\"dataframe\">\n",
       "  <thead>\n",
       "    <tr style=\"text-align: right;\">\n",
       "      <th></th>\n",
       "      <th>0</th>\n",
       "      <th>1</th>\n",
       "      <th>2</th>\n",
       "      <th>3</th>\n",
       "      <th>4</th>\n",
       "      <th>5</th>\n",
       "      <th>6</th>\n",
       "      <th>7</th>\n",
       "      <th>8</th>\n",
       "      <th>9</th>\n",
       "      <th>10</th>\n",
       "    </tr>\n",
       "  </thead>\n",
       "  <tbody>\n",
       "    <tr>\n",
       "      <th>0</th>\n",
       "      <td>28.7967</td>\n",
       "      <td>16.0021</td>\n",
       "      <td>2.6449</td>\n",
       "      <td>0.3918</td>\n",
       "      <td>0.1982</td>\n",
       "      <td>27.7004</td>\n",
       "      <td>22.0110</td>\n",
       "      <td>-8.2027</td>\n",
       "      <td>40.0920</td>\n",
       "      <td>81.8828</td>\n",
       "      <td>g</td>\n",
       "    </tr>\n",
       "    <tr>\n",
       "      <th>1</th>\n",
       "      <td>31.6036</td>\n",
       "      <td>11.7235</td>\n",
       "      <td>2.5185</td>\n",
       "      <td>0.5303</td>\n",
       "      <td>0.3773</td>\n",
       "      <td>26.2722</td>\n",
       "      <td>23.8238</td>\n",
       "      <td>-9.9574</td>\n",
       "      <td>6.3609</td>\n",
       "      <td>205.2610</td>\n",
       "      <td>g</td>\n",
       "    </tr>\n",
       "  </tbody>\n",
       "</table>\n",
       "</div>"
      ],
      "text/plain": [
       "        0        1       2       3       4        5        6       7   \\\n",
       "0  28.7967  16.0021  2.6449  0.3918  0.1982  27.7004  22.0110 -8.2027   \n",
       "1  31.6036  11.7235  2.5185  0.5303  0.3773  26.2722  23.8238 -9.9574   \n",
       "\n",
       "        8         9  10  \n",
       "0  40.0920   81.8828  g  \n",
       "1   6.3609  205.2610  g  "
      ]
     },
     "execution_count": 4,
     "metadata": {},
     "output_type": "execute_result"
    }
   ],
   "source": [
    "partical_data =pd.read_csv('magic04.data',header=None)\n",
    "partical_data.head(2)"
   ]
  },
  {
   "cell_type": "markdown",
   "id": "75d75aa4-7ed5-43ce-a487-fd4f62f382ac",
   "metadata": {},
   "source": [
    "### Dataset does not contain the header labels to determine from which column did they belong to so we need to add those seperately"
   ]
  },
  {
   "cell_type": "code",
   "execution_count": 6,
   "id": "411b11eb-f980-40d4-8da2-f55ad6d0a168",
   "metadata": {},
   "outputs": [
    {
     "data": {
      "text/html": [
       "<div>\n",
       "<style scoped>\n",
       "    .dataframe tbody tr th:only-of-type {\n",
       "        vertical-align: middle;\n",
       "    }\n",
       "\n",
       "    .dataframe tbody tr th {\n",
       "        vertical-align: top;\n",
       "    }\n",
       "\n",
       "    .dataframe thead th {\n",
       "        text-align: right;\n",
       "    }\n",
       "</style>\n",
       "<table border=\"1\" class=\"dataframe\">\n",
       "  <thead>\n",
       "    <tr style=\"text-align: right;\">\n",
       "      <th></th>\n",
       "      <th>fLength</th>\n",
       "      <th>fWidth</th>\n",
       "      <th>fSize</th>\n",
       "      <th>fConc</th>\n",
       "      <th>fConc1</th>\n",
       "      <th>fAsym</th>\n",
       "      <th>fM3Long</th>\n",
       "      <th>fM3Trans</th>\n",
       "      <th>fAlpha</th>\n",
       "      <th>fDist</th>\n",
       "      <th>class</th>\n",
       "    </tr>\n",
       "  </thead>\n",
       "  <tbody>\n",
       "    <tr>\n",
       "      <th>0</th>\n",
       "      <td>28.7967</td>\n",
       "      <td>16.0021</td>\n",
       "      <td>2.6449</td>\n",
       "      <td>0.3918</td>\n",
       "      <td>0.1982</td>\n",
       "      <td>27.7004</td>\n",
       "      <td>22.0110</td>\n",
       "      <td>-8.2027</td>\n",
       "      <td>40.0920</td>\n",
       "      <td>81.8828</td>\n",
       "      <td>g</td>\n",
       "    </tr>\n",
       "    <tr>\n",
       "      <th>1</th>\n",
       "      <td>31.6036</td>\n",
       "      <td>11.7235</td>\n",
       "      <td>2.5185</td>\n",
       "      <td>0.5303</td>\n",
       "      <td>0.3773</td>\n",
       "      <td>26.2722</td>\n",
       "      <td>23.8238</td>\n",
       "      <td>-9.9574</td>\n",
       "      <td>6.3609</td>\n",
       "      <td>205.2610</td>\n",
       "      <td>g</td>\n",
       "    </tr>\n",
       "  </tbody>\n",
       "</table>\n",
       "</div>"
      ],
      "text/plain": [
       "   fLength   fWidth   fSize   fConc  fConc1    fAsym  fM3Long  fM3Trans  \\\n",
       "0  28.7967  16.0021  2.6449  0.3918  0.1982  27.7004  22.0110   -8.2027   \n",
       "1  31.6036  11.7235  2.5185  0.5303  0.3773  26.2722  23.8238   -9.9574   \n",
       "\n",
       "    fAlpha     fDist class  \n",
       "0  40.0920   81.8828     g  \n",
       "1   6.3609  205.2610     g  "
      ]
     },
     "execution_count": 6,
     "metadata": {},
     "output_type": "execute_result"
    }
   ],
   "source": [
    "cols = [\"fLength\", \"fWidth\", \"fSize\", \"fConc\", \"fConc1\", \"fAsym\", \"fM3Long\", \"fM3Trans\", \"fAlpha\", \"fDist\", \"class\"]\n",
    "\n",
    "partical_data.columns=cols\n",
    "partical_data.head(2)"
   ]
  },
  {
   "cell_type": "code",
   "execution_count": 7,
   "id": "a69d41d0-da54-422a-8957-b56a2ca9d1e7",
   "metadata": {},
   "outputs": [
    {
     "name": "stdout",
     "output_type": "stream",
     "text": [
      "<class 'pandas.core.frame.DataFrame'>\n",
      "RangeIndex: 19020 entries, 0 to 19019\n",
      "Data columns (total 11 columns):\n",
      " #   Column    Non-Null Count  Dtype  \n",
      "---  ------    --------------  -----  \n",
      " 0   fLength   19020 non-null  float64\n",
      " 1   fWidth    19020 non-null  float64\n",
      " 2   fSize     19020 non-null  float64\n",
      " 3   fConc     19020 non-null  float64\n",
      " 4   fConc1    19020 non-null  float64\n",
      " 5   fAsym     19020 non-null  float64\n",
      " 6   fM3Long   19020 non-null  float64\n",
      " 7   fM3Trans  19020 non-null  float64\n",
      " 8   fAlpha    19020 non-null  float64\n",
      " 9   fDist     19020 non-null  float64\n",
      " 10  class     19020 non-null  object \n",
      "dtypes: float64(10), object(1)\n",
      "memory usage: 1.6+ MB\n"
     ]
    }
   ],
   "source": [
    "partical_data.info()"
   ]
  },
  {
   "cell_type": "markdown",
   "id": "1497848a-547d-4fc1-8b3a-c4baf8812ec5",
   "metadata": {},
   "source": [
    "### since the class column is in the char datatype so we need to convert it into the numerical format so that we can move further with the work because computer can only process the numerical values"
   ]
  },
  {
   "cell_type": "code",
   "execution_count": 9,
   "id": "689cbaf2-58fb-4cd3-9faf-527e1fd99d54",
   "metadata": {},
   "outputs": [
    {
     "data": {
      "text/plain": [
       "array(['g', 'h'], dtype=object)"
      ]
     },
     "execution_count": 9,
     "metadata": {},
     "output_type": "execute_result"
    }
   ],
   "source": [
    "partical_data['class'].unique()"
   ]
  },
  {
   "cell_type": "markdown",
   "id": "b3b9a0db-846a-4db9-be0f-1e9dc0b760bb",
   "metadata": {},
   "source": [
    "#### as we can see there is only 2 unique values there,\n",
    "#### g ==>> gamma : h==>> hadron"
   ]
  },
  {
   "cell_type": "code",
   "execution_count": 11,
   "id": "b2b3d4c0-e778-4a76-a56a-2e62be3306d6",
   "metadata": {},
   "outputs": [
    {
     "data": {
      "text/html": [
       "<div>\n",
       "<style scoped>\n",
       "    .dataframe tbody tr th:only-of-type {\n",
       "        vertical-align: middle;\n",
       "    }\n",
       "\n",
       "    .dataframe tbody tr th {\n",
       "        vertical-align: top;\n",
       "    }\n",
       "\n",
       "    .dataframe thead th {\n",
       "        text-align: right;\n",
       "    }\n",
       "</style>\n",
       "<table border=\"1\" class=\"dataframe\">\n",
       "  <thead>\n",
       "    <tr style=\"text-align: right;\">\n",
       "      <th></th>\n",
       "      <th>fLength</th>\n",
       "      <th>fWidth</th>\n",
       "      <th>fSize</th>\n",
       "      <th>fConc</th>\n",
       "      <th>fConc1</th>\n",
       "      <th>fAsym</th>\n",
       "      <th>fM3Long</th>\n",
       "      <th>fM3Trans</th>\n",
       "      <th>fAlpha</th>\n",
       "      <th>fDist</th>\n",
       "      <th>class</th>\n",
       "    </tr>\n",
       "  </thead>\n",
       "  <tbody>\n",
       "    <tr>\n",
       "      <th>0</th>\n",
       "      <td>28.7967</td>\n",
       "      <td>16.0021</td>\n",
       "      <td>2.6449</td>\n",
       "      <td>0.3918</td>\n",
       "      <td>0.1982</td>\n",
       "      <td>27.7004</td>\n",
       "      <td>22.0110</td>\n",
       "      <td>-8.2027</td>\n",
       "      <td>40.0920</td>\n",
       "      <td>81.8828</td>\n",
       "      <td>1</td>\n",
       "    </tr>\n",
       "    <tr>\n",
       "      <th>1</th>\n",
       "      <td>31.6036</td>\n",
       "      <td>11.7235</td>\n",
       "      <td>2.5185</td>\n",
       "      <td>0.5303</td>\n",
       "      <td>0.3773</td>\n",
       "      <td>26.2722</td>\n",
       "      <td>23.8238</td>\n",
       "      <td>-9.9574</td>\n",
       "      <td>6.3609</td>\n",
       "      <td>205.2610</td>\n",
       "      <td>1</td>\n",
       "    </tr>\n",
       "  </tbody>\n",
       "</table>\n",
       "</div>"
      ],
      "text/plain": [
       "   fLength   fWidth   fSize   fConc  fConc1    fAsym  fM3Long  fM3Trans  \\\n",
       "0  28.7967  16.0021  2.6449  0.3918  0.1982  27.7004  22.0110   -8.2027   \n",
       "1  31.6036  11.7235  2.5185  0.5303  0.3773  26.2722  23.8238   -9.9574   \n",
       "\n",
       "    fAlpha     fDist  class  \n",
       "0  40.0920   81.8828      1  \n",
       "1   6.3609  205.2610      1  "
      ]
     },
     "execution_count": 11,
     "metadata": {},
     "output_type": "execute_result"
    }
   ],
   "source": [
    "partical_data['class']=(partical_data['class']=='g').astype(int)\n",
    "partical_data.head(2)"
   ]
  },
  {
   "cell_type": "markdown",
   "id": "1b9ae350-ad29-4805-8c9b-e8f3776fd8da",
   "metadata": {},
   "source": [
    "#### lets see the distribution of the data between the class column"
   ]
  },
  {
   "cell_type": "code",
   "execution_count": 13,
   "id": "7dbc324f-b60d-4c33-9d25-5aeb6e999548",
   "metadata": {},
   "outputs": [
    {
     "data": {
      "text/plain": [
       "class\n",
       "1    12332\n",
       "0     6688\n",
       "Name: count, dtype: int64"
      ]
     },
     "execution_count": 13,
     "metadata": {},
     "output_type": "execute_result"
    }
   ],
   "source": [
    "partical_data['class'].value_counts()"
   ]
  },
  {
   "cell_type": "code",
   "execution_count": 14,
   "id": "75b63d79-ebb6-44a4-a5a0-e46f4c4563cb",
   "metadata": {},
   "outputs": [
    {
     "data": {
      "image/png": "[encoded data removed]",
      "text/plain": [
       "<Figure size 640x480 with 1 Axes>"
      ]
     },
     "metadata": {},
     "output_type": "display_data"
    },
    {
     "data": {
      "image/png": "[encoded data removed]",
      "text/plain": [
       "<Figure size 640x480 with 1 Axes>"
      ]
     },
     "metadata": {},
     "output_type": "display_data"
    },
    {
     "data": {
      "image/png": "[encoded data removed]",
      "text/plain": [
       "<Figure size 640x480 with 1 Axes>"
      ]
     },
     "metadata": {},
     "output_type": "display_data"
    },
    {
     "data": {
      "image/png": "[encoded data removed]",
      "text/plain": [
       "<Figure size 640x480 with 1 Axes>"
      ]
     },
     "metadata": {},
     "output_type": "display_data"
    },
    {
     "data": {
      "image/png": "[encoded data removed]",
      "text/plain": [
       "<Figure size 640x480 with 1 Axes>"
      ]
     },
     "metadata": {},
     "output_type": "display_data"
    },
    {
     "data": {
      "image/png": "[encoded data removed]",
      "text/plain": [
       "<Figure size 640x480 with 1 Axes>"
      ]
     },
     "metadata": {},
     "output_type": "display_data"
    },
    {
     "data": {
      "image/png": "[encoded data removed]",
      "text/plain": [
       "<Figure size 640x480 with 1 Axes>"
      ]
     },
     "metadata": {},
     "output_type": "display_data"
    },
    {
     "data": {
      "image/png": "[encoded data removed]",
      "text/plain": [
       "<Figure size 640x480 with 1 Axes>"
      ]
     },
     "metadata": {},
     "output_type": "display_data"
    },
    {
     "data": {
      "image/png": "[encoded data removed]",
      "text/plain": [
       "<Figure size 640x480 with 1 Axes>"
      ]
     },
     "metadata": {},
     "output_type": "display_data"
    },
    {
     "data": {
      "image/png": "[encoded data removed]",
      "text/plain": [
       "<Figure size 640x480 with 1 Axes>"
      ]
     },
     "metadata": {},
     "output_type": "display_data"
    }
   ],
   "source": [
    "for labels in cols[:-1]:\n",
    "    plt.hist(partical_data[partical_data['class']==1][labels],color='blue',label='gamma',alpha=0.7)\n",
    "    plt.hist(partical_data[partical_data['class']==0][labels],color='red',label='hadron',alpha=0.7)\n",
    "    plt.title(labels)\n",
    "    plt.legend()\n",
    "    plt.show()"
   ]
  },
  {
   "cell_type": "markdown",
   "id": "2c727d04-120e-4ebd-b0ce-0d0f6c5bc9c5",
   "metadata": {},
   "source": [
    "#### Now lets divide the dataset based on features and target values i.e x,y"
   ]
  },
  {
   "cell_type": "code",
   "execution_count": 16,
   "id": "2154f252-3233-4c03-aaee-1c8ef1ec5cc6",
   "metadata": {},
   "outputs": [],
   "source": [
    "# Define features and target variable\n",
    "X = partical_data.drop(columns=['class'])  # Features\n",
    "y = partical_data['class']  # Target variable (binary: 1=g, 0=h)\n"
   ]
  },
  {
   "cell_type": "markdown",
   "id": "6b4ec4a5-facf-4074-9691-d30930210318",
   "metadata": {},
   "source": [
    "### Split Data into Training & Testing Sets"
   ]
  },
  {
   "cell_type": "code",
   "execution_count": 18,
   "id": "9974af00-e743-4c24-ac6d-6e8c45872bbd",
   "metadata": {},
   "outputs": [],
   "source": [
    "from sklearn.model_selection import train_test_split\n",
    "\n",
    "# Split into training (80%) and testing (20%) sets\n",
    "X_train, X_test, y_train, y_test = train_test_split(X, y,test_size=0.2,random_state=42,stratify=y)  # Ensures balanced class distribution\n"
   ]
  },
  {
   "cell_type": "markdown",
   "id": "6a6c7054-90d2-4bcf-b664-b2527dfc3c7a",
   "metadata": {},
   "source": [
    "### Apply Resampling (Balancing Classes using SMOTE)\n",
    "##### Since the dataset is imbalanced (g: 12332, h: 6688), apply Synthetic Minority Over-sampling (SMOTE) to create synthetic samples for the minority class.\n",
    "\n",
    "\n",
    "\n",
    "###### Generates synthetic minority class samples only on training data (avoids test contamination).\n",
    "###### Balances class distribution for better model learning."
   ]
  },
  {
   "cell_type": "code",
   "execution_count": 20,
   "id": "698749c7-d1bd-42d2-a5fb-e02affc9ff84",
   "metadata": {},
   "outputs": [
    {
     "name": "stdout",
     "output_type": "stream",
     "text": [
      "Before SMOTE: {1: 9866, 0: 5350}\n",
      "After SMOTE: {1: 9866, 0: 9866}\n"
     ]
    }
   ],
   "source": [
    "from imblearn.over_sampling import SMOTE\n",
    "\n",
    "smote = SMOTE(random_state=42)\n",
    "X_train_resampled, y_train_resampled = smote.fit_resample(X_train, y_train)\n",
    "\n",
    "# Check new class distribution\n",
    "print(\"Before SMOTE:\", y_train.value_counts().to_dict())\n",
    "print(\"After SMOTE:\", pd.Series(y_train_resampled).value_counts().to_dict())\n"
   ]
  },
  {
   "cell_type": "markdown",
   "id": "cf7f7ce9-b5f2-47af-ad66-0a0589d6a098",
   "metadata": {},
   "source": [
    "## Apply Standardization (Feature Scaling)"
   ]
  },
  {
   "cell_type": "markdown",
   "id": "604dc4b6-d0a5-4b7b-ad6c-3b3d696283ca",
   "metadata": {},
   "source": [
    "#### In the dataset we can see the scale of values for different lable varies  so by applying the standard scaler we can standardize the data set"
   ]
  },
  {
   "cell_type": "markdown",
   "id": "aecbb691-d7cf-4008-bc50-b132105be2f0",
   "metadata": {},
   "source": [
    "Standardization is crucial in data preprocessing for machine learning, and here are a few key reasons why:\n",
    "\n",
    "1. **Uniformity**: Standardization scales your data so that it has a mean of zero and a standard deviation of one. This ensures all features contribute equally to the model, preventing any feature from disproportionately influencing the outcome.\n",
    "\n",
    "2. **Performance**: Many machine learning algorithms, such as support vector machines (SVM) and K-means clustering, rely on the distance between data points. Standardized data ensures that these distances are calculated consistently, improving algorithm performance.\n",
    "\n",
    "3. **Convergence Speed**: Gradient-based algorithms like logistic regression and neural networks converge faster when the data is standardized. This is because the standardized data helps maintain a balanced step size during the optimization process, speeding up convergence.\n",
    "\n",
    "4. **Interpretability**: Models become more interpretable when features are on a common scale. This allows for clearer insight into feature importance and the relationships between features.\n",
    "\n",
    "5. **Handling Outliers**: While standardization does not eliminate outliers, it can mitigate their impact on the model by reducing the skewness of the data distribution.\n",
    "\n"
   ]
  },
  {
   "cell_type": "code",
   "execution_count": 24,
   "id": "e613ab47-865a-40b4-8418-e239b395985b",
   "metadata": {},
   "outputs": [],
   "source": [
    "scaler = StandardScaler()\n",
    "\n",
    "# Fit & transform on training data\n",
    "X_train_scaled = scaler.fit_transform(X_train_resampled)\n",
    "\n",
    "# Transform test data using the same scaler\n",
    "X_test_scaled = scaler.transform(X_test)\n",
    "\n",
    "# Convert back to DataFrame \n",
    "X_train_scaled = pd.DataFrame(X_train_scaled, columns=X.columns)\n",
    "X_test_scaled = pd.DataFrame(X_test_scaled, columns=X.columns)\n"
   ]
  },
  {
   "cell_type": "markdown",
   "id": "3f79b0b1-230c-4a79-968f-85010a870c5d",
   "metadata": {},
   "source": [
    "### Training different models based on the data preprocessing done over dataframe\n"
   ]
  },
  {
   "cell_type": "code",
   "execution_count": 26,
   "id": "dd7147b3-84f6-46cc-b8ff-9789ec6a73d5",
   "metadata": {},
   "outputs": [],
   "source": [
    "from sklearn.linear_model import LogisticRegression\n",
    "from sklearn.tree import DecisionTreeClassifier\n",
    "from sklearn.ensemble import RandomForestClassifier, GradientBoostingClassifier, AdaBoostClassifier\n",
    "from sklearn.svm import SVC\n",
    "from sklearn.neighbors import KNeighborsClassifier\n",
    "from xgboost import XGBClassifier\n",
    "from sklearn.naive_bayes import GaussianNB\n",
    "from sklearn.metrics import accuracy_score, classification_report\n"
   ]
  },
  {
   "cell_type": "code",
   "execution_count": 27,
   "id": "0f54275b-30f6-491f-a96d-a4ed4e5aaf38",
   "metadata": {},
   "outputs": [
    {
     "name": "stdout",
     "output_type": "stream",
     "text": [
      "Training Logistic Regression...\n",
      "Logistic Regression Accuracy: 0.7789\n",
      "\n",
      "Training Decision Tree...\n",
      "Decision Tree Accuracy: 0.8118\n",
      "\n",
      "Training Random Forest...\n",
      "Random Forest Accuracy: 0.8738\n",
      "\n",
      "Training Gradient Boosting...\n",
      "Gradient Boosting Accuracy: 0.8641\n",
      "\n",
      "Training AdaBoost...\n",
      "AdaBoost Accuracy: 0.8223\n",
      "\n",
      "Training Support Vector Machine...\n",
      "Support Vector Machine Accuracy: 0.8659\n",
      "\n",
      "Training K-Nearest Neighbors...\n",
      "K-Nearest Neighbors Accuracy: 0.8210\n",
      "\n",
      "Training XGBoost...\n"
     ]
    },
    {
     "name": "stderr",
     "output_type": "stream",
     "text": [
      "C:\\Users\\Lenovo\\anaconda3\\Lib\\site-packages\\xgboost\\core.py:158: UserWarning: [23:48:35] WARNING: C:\\buildkite-agent\\builds\\buildkite-windows-cpu-autoscaling-group-i-0015a694724fa8361-1\\xgboost\\xgboost-ci-windows\\src\\learner.cc:740: \n",
      "Parameters: { \"use_label_encoder\" } are not used.\n",
      "\n",
      "  warnings.warn(smsg, UserWarning)\n"
     ]
    },
    {
     "name": "stdout",
     "output_type": "stream",
     "text": [
      "XGBoost Accuracy: 0.8778\n",
      "\n",
      "Training Naive Bayes...\n",
      "Naive Bayes Accuracy: 0.7256\n",
      "\n"
     ]
    }
   ],
   "source": [
    "# Define models\n",
    "models = {\n",
    "    \"Logistic Regression\": LogisticRegression(),\n",
    "    \"Decision Tree\": DecisionTreeClassifier(),\n",
    "    \"Random Forest\": RandomForestClassifier(),\n",
    "    \"Gradient Boosting\": GradientBoostingClassifier(),\n",
    "    \"AdaBoost\": AdaBoostClassifier(),\n",
    "    \"Support Vector Machine\": SVC(),\n",
    "    \"K-Nearest Neighbors\": KNeighborsClassifier(),\n",
    "    \"XGBoost\": XGBClassifier(use_label_encoder=False, eval_metric='logloss'),\n",
    "    \"Naive Bayes\": GaussianNB()\n",
    "}\n",
    "\n",
    "# Train each model and store results\n",
    "results = {}\n",
    "\n",
    "for name, model in models.items():\n",
    "    print(f\"Training {name}...\")\n",
    "    model.fit(X_train_scaled, y_train_resampled)\n",
    "    y_pred = model.predict(X_test_scaled)\n",
    "    \n",
    "    accuracy = accuracy_score(y_test, y_pred)\n",
    "    report = classification_report(y_test, y_pred)\n",
    "    \n",
    "    results[name] = {\"Accuracy\": accuracy, \"Report\": report}\n",
    "    print(f\"{name} Accuracy: {accuracy:.4f}\\n\")\n"
   ]
  },
  {
   "cell_type": "code",
   "execution_count": 28,
   "id": "39d5a955-302d-4c3b-93a7-dc5c357ddacf",
   "metadata": {},
   "outputs": [
    {
     "name": "stdout",
     "output_type": "stream",
     "text": [
      "🔹 Logistic Regression:\n",
      "Accuracy: 0.7789\n",
      "\n",
      "🔹 Decision Tree:\n",
      "Accuracy: 0.8118\n",
      "\n",
      "🔹 Random Forest:\n",
      "Accuracy: 0.8738\n",
      "\n",
      "🔹 Gradient Boosting:\n",
      "Accuracy: 0.8641\n",
      "\n",
      "🔹 AdaBoost:\n",
      "Accuracy: 0.8223\n",
      "\n",
      "🔹 Support Vector Machine:\n",
      "Accuracy: 0.8659\n",
      "\n",
      "🔹 K-Nearest Neighbors:\n",
      "Accuracy: 0.8210\n",
      "\n",
      "🔹 XGBoost:\n",
      "Accuracy: 0.8778\n",
      "\n",
      "🔹 Naive Bayes:\n",
      "Accuracy: 0.7256\n",
      "\n"
     ]
    }
   ],
   "source": [
    "# Print model performance\n",
    "for model, metrics in results.items():\n",
    "    print(f\"🔹 {model}:\\nAccuracy: {metrics['Accuracy']:.4f}\\n\")\n"
   ]
  },
  {
   "cell_type": "code",
   "execution_count": 29,
   "id": "5c60354b-9cc0-41cd-86d0-621be8907565",
   "metadata": {},
   "outputs": [
    {
     "data": {
      "image/png": "[encoded data removed]",
      "text/plain": [
       "<Figure size 1200x600 with 1 Axes>"
      ]
     },
     "metadata": {},
     "output_type": "display_data"
    }
   ],
   "source": [
    "# Extract accuracy values\n",
    "model_names = list(results.keys())\n",
    "accuracies = [results[name][\"Accuracy\"] for name in model_names]\n",
    "\n",
    "# Plot model performance\n",
    "plt.figure(figsize=(12, 6))\n",
    "plt.barh(model_names, accuracies, color='skyblue')\n",
    "plt.xlabel(\"Accuracy\")\n",
    "plt.title(\"Comparison of ML Model Performance\")\n",
    "plt.gca().invert_yaxis()\n",
    "plt.show()\n"
   ]
  },
  {
   "cell_type": "code",
   "execution_count": 30,
   "id": "f70b6223-8cbb-4eba-85a6-0aec4daed316",
   "metadata": {},
   "outputs": [
    {
     "name": "stdout",
     "output_type": "stream",
     "text": [
      "Classification Report for Logistic Regression:\n",
      "\n",
      "              precision    recall  f1-score   support\n",
      "\n",
      "           0       0.68      0.72      0.69      1338\n",
      "           1       0.84      0.81      0.83      2466\n",
      "\n",
      "    accuracy                           0.78      3804\n",
      "   macro avg       0.76      0.76      0.76      3804\n",
      "weighted avg       0.78      0.78      0.78      3804\n",
      "\n",
      "\n",
      "============================================================\n",
      "\n",
      "Classification Report for Decision Tree:\n",
      "\n",
      "              precision    recall  f1-score   support\n",
      "\n",
      "           0       0.71      0.78      0.74      1338\n",
      "           1       0.87      0.83      0.85      2466\n",
      "\n",
      "    accuracy                           0.81      3804\n",
      "   macro avg       0.79      0.80      0.80      3804\n",
      "weighted avg       0.82      0.81      0.81      3804\n",
      "\n",
      "\n",
      "============================================================\n",
      "\n",
      "Classification Report for Random Forest:\n",
      "\n",
      "              precision    recall  f1-score   support\n",
      "\n",
      "           0       0.83      0.81      0.82      1338\n",
      "           1       0.90      0.91      0.90      2466\n",
      "\n",
      "    accuracy                           0.87      3804\n",
      "   macro avg       0.86      0.86      0.86      3804\n",
      "weighted avg       0.87      0.87      0.87      3804\n",
      "\n",
      "\n",
      "============================================================\n",
      "\n",
      "Classification Report for Gradient Boosting:\n",
      "\n",
      "              precision    recall  f1-score   support\n",
      "\n",
      "           0       0.80      0.81      0.81      1338\n",
      "           1       0.90      0.89      0.89      2466\n",
      "\n",
      "    accuracy                           0.86      3804\n",
      "   macro avg       0.85      0.85      0.85      3804\n",
      "weighted avg       0.86      0.86      0.86      3804\n",
      "\n",
      "\n",
      "============================================================\n",
      "\n",
      "Classification Report for AdaBoost:\n",
      "\n",
      "              precision    recall  f1-score   support\n",
      "\n",
      "           0       0.72      0.80      0.76      1338\n",
      "           1       0.89      0.83      0.86      2466\n",
      "\n",
      "    accuracy                           0.82      3804\n",
      "   macro avg       0.80      0.82      0.81      3804\n",
      "weighted avg       0.83      0.82      0.82      3804\n",
      "\n",
      "\n",
      "============================================================\n",
      "\n",
      "Classification Report for Support Vector Machine:\n",
      "\n",
      "              precision    recall  f1-score   support\n",
      "\n",
      "           0       0.82      0.80      0.81      1338\n",
      "           1       0.89      0.90      0.90      2466\n",
      "\n",
      "    accuracy                           0.87      3804\n",
      "   macro avg       0.85      0.85      0.85      3804\n",
      "weighted avg       0.87      0.87      0.87      3804\n",
      "\n",
      "\n",
      "============================================================\n",
      "\n",
      "Classification Report for K-Nearest Neighbors:\n",
      "\n",
      "              precision    recall  f1-score   support\n",
      "\n",
      "           0       0.74      0.75      0.75      1338\n",
      "           1       0.86      0.86      0.86      2466\n",
      "\n",
      "    accuracy                           0.82      3804\n",
      "   macro avg       0.80      0.80      0.80      3804\n",
      "weighted avg       0.82      0.82      0.82      3804\n",
      "\n",
      "\n",
      "============================================================\n",
      "\n",
      "Classification Report for XGBoost:\n",
      "\n",
      "              precision    recall  f1-score   support\n",
      "\n",
      "           0       0.83      0.82      0.83      1338\n",
      "           1       0.90      0.91      0.91      2466\n",
      "\n",
      "    accuracy                           0.88      3804\n",
      "   macro avg       0.87      0.87      0.87      3804\n",
      "weighted avg       0.88      0.88      0.88      3804\n",
      "\n",
      "\n",
      "============================================================\n",
      "\n",
      "Classification Report for Naive Bayes:\n",
      "\n",
      "              precision    recall  f1-score   support\n",
      "\n",
      "           0       0.68      0.42      0.52      1338\n",
      "           1       0.74      0.89      0.81      2466\n",
      "\n",
      "    accuracy                           0.73      3804\n",
      "   macro avg       0.71      0.66      0.66      3804\n",
      "weighted avg       0.72      0.73      0.71      3804\n",
      "\n",
      "\n",
      "============================================================\n",
      "\n"
     ]
    }
   ],
   "source": [
    "for model_name, metrics in results.items():\n",
    "    print(f\"Classification Report for {model_name}:\\n\")\n",
    "    print(metrics['Report'])\n",
    "    print(\"\\n\" + \"=\"*60 + \"\\n\")\n"
   ]
  },
  {
   "cell_type": "code",
   "execution_count": null,
   "id": "8ad6a4c2-12e4-4945-b530-127c354eee26",
   "metadata": {},
   "outputs": [],
   "source": []
  },
  {
   "cell_type": "markdown",
   "id": "14325f90-b163-431b-8ff7-afb03dc704d1",
   "metadata": {},
   "source": [
    "# Neural network"
   ]
  },
  {
   "cell_type": "code",
   "execution_count": 32,
   "id": "7f174503-243a-43f9-9ea9-192f78dea599",
   "metadata": {},
   "outputs": [],
   "source": [
    "import tensorflow as tf"
   ]
  },
  {
   "cell_type": "markdown",
   "id": "22387588-8bb1-471d-80f4-7d283e7b6b1b",
   "metadata": {},
   "source": [
    "### Build the Neural Network Model"
   ]
  },
  {
   "cell_type": "code",
   "execution_count": 34,
   "id": "4ec93e96-04e7-4d8c-9a8c-99ff4445030b",
   "metadata": {},
   "outputs": [],
   "source": [
    "nn_model = tf.keras.Sequential([\n",
    "    tf.keras.Input(shape=(10,)),\n",
    "    tf.keras.layers.Dense(32, activation='relu'),\n",
    "    tf.keras.layers.Dense(32, activation='relu'),\n",
    "    tf.keras.layers.Dense(1, activation='sigmoid')\n",
    "])\n",
    "\n",
    "\n"
   ]
  },
  {
   "cell_type": "markdown",
   "id": "cd21d2d7-d154-4613-8cd0-6e3a4db24536",
   "metadata": {},
   "source": [
    "### Compile the Model"
   ]
  },
  {
   "cell_type": "code",
   "execution_count": 36,
   "id": "394a2623-adcd-496e-bbec-c1d7cdf41728",
   "metadata": {},
   "outputs": [],
   "source": [
    "nn_model.compile(optimizer=tf.keras.optimizers.Adam(),loss='binary_crossentropy',metrics=['accuracy'])"
   ]
  },
  {
   "cell_type": "markdown",
   "id": "f9c479d6-0683-4079-8f9a-ada539db1359",
   "metadata": {},
   "source": [
    "#### Train the Model"
   ]
  },
  {
   "cell_type": "code",
   "execution_count": 38,
   "id": "c3406454-1065-464b-8131-c58131ca76d9",
   "metadata": {
    "scrolled": true
   },
   "outputs": [
    {
     "name": "stdout",
     "output_type": "stream",
     "text": [
      "Epoch 1/100\n",
      "\u001b[1m617/617\u001b[0m \u001b[32m━━━━━━━━━━━━━━━━━━━━\u001b[0m\u001b[37m\u001b[0m \u001b[1m4s\u001b[0m 2ms/step - accuracy: 0.7363 - loss: 0.5104\n",
      "Epoch 2/100\n",
      "\u001b[1m617/617\u001b[0m \u001b[32m━━━━━━━━━━━━━━━━━━━━\u001b[0m\u001b[37m\u001b[0m \u001b[1m1s\u001b[0m 2ms/step - accuracy: 0.8429 - loss: 0.3637\n",
      "Epoch 3/100\n",
      "\u001b[1m617/617\u001b[0m \u001b[32m━━━━━━━━━━━━━━━━━━━━\u001b[0m\u001b[37m\u001b[0m \u001b[1m1s\u001b[0m 2ms/step - accuracy: 0.8395 - loss: 0.3621  \n",
      "Epoch 4/100\n",
      "\u001b[1m617/617\u001b[0m \u001b[32m━━━━━━━━━━━━━━━━━━━━\u001b[0m\u001b[37m\u001b[0m \u001b[1m3s\u001b[0m 2ms/step - accuracy: 0.8489 - loss: 0.3479\n",
      "Epoch 5/100\n",
      "\u001b[1m617/617\u001b[0m \u001b[32m━━━━━━━━━━━━━━━━━━━━\u001b[0m\u001b[37m\u001b[0m \u001b[1m3s\u001b[0m 2ms/step - accuracy: 0.8519 - loss: 0.3421\n",
      "Epoch 6/100\n",
      "\u001b[1m617/617\u001b[0m \u001b[32m━━━━━━━━━━━━━━━━━━━━\u001b[0m\u001b[37m\u001b[0m \u001b[1m1s\u001b[0m 2ms/step - accuracy: 0.8510 - loss: 0.3362\n",
      "Epoch 7/100\n",
      "\u001b[1m617/617\u001b[0m \u001b[32m━━━━━━━━━━━━━━━━━━━━\u001b[0m\u001b[37m\u001b[0m \u001b[1m1s\u001b[0m 2ms/step - accuracy: 0.8522 - loss: 0.3330  \n",
      "Epoch 8/100\n",
      "\u001b[1m617/617\u001b[0m \u001b[32m━━━━━━━━━━━━━━━━━━━━\u001b[0m\u001b[37m\u001b[0m \u001b[1m3s\u001b[0m 2ms/step - accuracy: 0.8518 - loss: 0.3342\n",
      "Epoch 9/100\n",
      "\u001b[1m617/617\u001b[0m \u001b[32m━━━━━━━━━━━━━━━━━━━━\u001b[0m\u001b[37m\u001b[0m \u001b[1m1s\u001b[0m 2ms/step - accuracy: 0.8558 - loss: 0.3236\n",
      "Epoch 10/100\n",
      "\u001b[1m617/617\u001b[0m \u001b[32m━━━━━━━━━━━━━━━━━━━━\u001b[0m\u001b[37m\u001b[0m \u001b[1m2s\u001b[0m 2ms/step - accuracy: 0.8595 - loss: 0.3237\n",
      "Epoch 11/100\n",
      "\u001b[1m617/617\u001b[0m \u001b[32m━━━━━━━━━━━━━━━━━━━━\u001b[0m\u001b[37m\u001b[0m \u001b[1m1s\u001b[0m 2ms/step - accuracy: 0.8556 - loss: 0.3246  \n",
      "Epoch 12/100\n",
      "\u001b[1m617/617\u001b[0m \u001b[32m━━━━━━━━━━━━━━━━━━━━\u001b[0m\u001b[37m\u001b[0m \u001b[1m1s\u001b[0m 2ms/step - accuracy: 0.8620 - loss: 0.3167  \n",
      "Epoch 13/100\n",
      "\u001b[1m617/617\u001b[0m \u001b[32m━━━━━━━━━━━━━━━━━━━━\u001b[0m\u001b[37m\u001b[0m \u001b[1m3s\u001b[0m 2ms/step - accuracy: 0.8580 - loss: 0.3202\n",
      "Epoch 14/100\n",
      "\u001b[1m617/617\u001b[0m \u001b[32m━━━━━━━━━━━━━━━━━━━━\u001b[0m\u001b[37m\u001b[0m \u001b[1m2s\u001b[0m 2ms/step - accuracy: 0.8572 - loss: 0.3221\n",
      "Epoch 15/100\n",
      "\u001b[1m617/617\u001b[0m \u001b[32m━━━━━━━━━━━━━━━━━━━━\u001b[0m\u001b[37m\u001b[0m \u001b[1m1s\u001b[0m 2ms/step - accuracy: 0.8606 - loss: 0.3193\n",
      "Epoch 16/100\n",
      "\u001b[1m617/617\u001b[0m \u001b[32m━━━━━━━━━━━━━━━━━━━━\u001b[0m\u001b[37m\u001b[0m \u001b[1m2s\u001b[0m 2ms/step - accuracy: 0.8613 - loss: 0.3161\n",
      "Epoch 17/100\n",
      "\u001b[1m617/617\u001b[0m \u001b[32m━━━━━━━━━━━━━━━━━━━━\u001b[0m\u001b[37m\u001b[0m \u001b[1m1s\u001b[0m 2ms/step - accuracy: 0.8597 - loss: 0.3211  \n",
      "Epoch 18/100\n",
      "\u001b[1m617/617\u001b[0m \u001b[32m━━━━━━━━━━━━━━━━━━━━\u001b[0m\u001b[37m\u001b[0m \u001b[1m1s\u001b[0m 2ms/step - accuracy: 0.8639 - loss: 0.3131\n",
      "Epoch 19/100\n",
      "\u001b[1m617/617\u001b[0m \u001b[32m━━━━━━━━━━━━━━━━━━━━\u001b[0m\u001b[37m\u001b[0m \u001b[1m1s\u001b[0m 2ms/step - accuracy: 0.8578 - loss: 0.3170 \n",
      "Epoch 20/100\n",
      "\u001b[1m617/617\u001b[0m \u001b[32m━━━━━━━━━━━━━━━━━━━━\u001b[0m\u001b[37m\u001b[0m \u001b[1m2s\u001b[0m 2ms/step - accuracy: 0.8659 - loss: 0.3079\n",
      "Epoch 21/100\n",
      "\u001b[1m617/617\u001b[0m \u001b[32m━━━━━━━━━━━━━━━━━━━━\u001b[0m\u001b[37m\u001b[0m \u001b[1m2s\u001b[0m 2ms/step - accuracy: 0.8652 - loss: 0.3099\n",
      "Epoch 22/100\n",
      "\u001b[1m617/617\u001b[0m \u001b[32m━━━━━━━━━━━━━━━━━━━━\u001b[0m\u001b[37m\u001b[0m \u001b[1m1s\u001b[0m 2ms/step - accuracy: 0.8636 - loss: 0.3115\n",
      "Epoch 23/100\n",
      "\u001b[1m617/617\u001b[0m \u001b[32m━━━━━━━━━━━━━━━━━━━━\u001b[0m\u001b[37m\u001b[0m \u001b[1m1s\u001b[0m 2ms/step - accuracy: 0.8645 - loss: 0.3133\n",
      "Epoch 24/100\n",
      "\u001b[1m617/617\u001b[0m \u001b[32m━━━━━━━━━━━━━━━━━━━━\u001b[0m\u001b[37m\u001b[0m \u001b[1m1s\u001b[0m 2ms/step - accuracy: 0.8668 - loss: 0.3009\n",
      "Epoch 25/100\n",
      "\u001b[1m617/617\u001b[0m \u001b[32m━━━━━━━━━━━━━━━━━━━━\u001b[0m\u001b[37m\u001b[0m \u001b[1m2s\u001b[0m 2ms/step - accuracy: 0.8644 - loss: 0.3064    \n",
      "Epoch 26/100\n",
      "\u001b[1m617/617\u001b[0m \u001b[32m━━━━━━━━━━━━━━━━━━━━\u001b[0m\u001b[37m\u001b[0m \u001b[1m1s\u001b[0m 2ms/step - accuracy: 0.8607 - loss: 0.3080\n",
      "Epoch 27/100\n",
      "\u001b[1m617/617\u001b[0m \u001b[32m━━━━━━━━━━━━━━━━━━━━\u001b[0m\u001b[37m\u001b[0m \u001b[1m1s\u001b[0m 2ms/step - accuracy: 0.8643 - loss: 0.3057\n",
      "Epoch 28/100\n",
      "\u001b[1m617/617\u001b[0m \u001b[32m━━━━━━━━━━━━━━━━━━━━\u001b[0m\u001b[37m\u001b[0m \u001b[1m3s\u001b[0m 2ms/step - accuracy: 0.8662 - loss: 0.3035\n",
      "Epoch 29/100\n",
      "\u001b[1m617/617\u001b[0m \u001b[32m━━━━━━━━━━━━━━━━━━━━\u001b[0m\u001b[37m\u001b[0m \u001b[1m3s\u001b[0m 2ms/step - accuracy: 0.8673 - loss: 0.3046\n",
      "Epoch 30/100\n",
      "\u001b[1m617/617\u001b[0m \u001b[32m━━━━━━━━━━━━━━━━━━━━\u001b[0m\u001b[37m\u001b[0m \u001b[1m1s\u001b[0m 2ms/step - accuracy: 0.8659 - loss: 0.3019\n",
      "Epoch 31/100\n",
      "\u001b[1m617/617\u001b[0m \u001b[32m━━━━━━━━━━━━━━━━━━━━\u001b[0m\u001b[37m\u001b[0m \u001b[1m1s\u001b[0m 2ms/step - accuracy: 0.8659 - loss: 0.3066\n",
      "Epoch 32/100\n",
      "\u001b[1m617/617\u001b[0m \u001b[32m━━━━━━━━━━━━━━━━━━━━\u001b[0m\u001b[37m\u001b[0m \u001b[1m1s\u001b[0m 2ms/step - accuracy: 0.8643 - loss: 0.3037\n",
      "Epoch 33/100\n",
      "\u001b[1m617/617\u001b[0m \u001b[32m━━━━━━━━━━━━━━━━━━━━\u001b[0m\u001b[37m\u001b[0m \u001b[1m1s\u001b[0m 2ms/step - accuracy: 0.8646 - loss: 0.3058\n",
      "Epoch 34/100\n",
      "\u001b[1m617/617\u001b[0m \u001b[32m━━━━━━━━━━━━━━━━━━━━\u001b[0m\u001b[37m\u001b[0m \u001b[1m1s\u001b[0m 2ms/step - accuracy: 0.8626 - loss: 0.3078\n",
      "Epoch 35/100\n",
      "\u001b[1m617/617\u001b[0m \u001b[32m━━━━━━━━━━━━━━━━━━━━\u001b[0m\u001b[37m\u001b[0m \u001b[1m1s\u001b[0m 2ms/step - accuracy: 0.8681 - loss: 0.3020\n",
      "Epoch 36/100\n",
      "\u001b[1m617/617\u001b[0m \u001b[32m━━━━━━━━━━━━━━━━━━━━\u001b[0m\u001b[37m\u001b[0m \u001b[1m1s\u001b[0m 2ms/step - accuracy: 0.8706 - loss: 0.2954\n",
      "Epoch 37/100\n",
      "\u001b[1m617/617\u001b[0m \u001b[32m━━━━━━━━━━━━━━━━━━━━\u001b[0m\u001b[37m\u001b[0m \u001b[1m1s\u001b[0m 2ms/step - accuracy: 0.8661 - loss: 0.3019\n",
      "Epoch 38/100\n",
      "\u001b[1m617/617\u001b[0m \u001b[32m━━━━━━━━━━━━━━━━━━━━\u001b[0m\u001b[37m\u001b[0m \u001b[1m1s\u001b[0m 2ms/step - accuracy: 0.8643 - loss: 0.3057  \n",
      "Epoch 39/100\n",
      "\u001b[1m617/617\u001b[0m \u001b[32m━━━━━━━━━━━━━━━━━━━━\u001b[0m\u001b[37m\u001b[0m \u001b[1m1s\u001b[0m 2ms/step - accuracy: 0.8686 - loss: 0.3024  \n",
      "Epoch 40/100\n",
      "\u001b[1m617/617\u001b[0m \u001b[32m━━━━━━━━━━━━━━━━━━━━\u001b[0m\u001b[37m\u001b[0m \u001b[1m1s\u001b[0m 2ms/step - accuracy: 0.8668 - loss: 0.2975\n",
      "Epoch 41/100\n",
      "\u001b[1m617/617\u001b[0m \u001b[32m━━━━━━━━━━━━━━━━━━━━\u001b[0m\u001b[37m\u001b[0m \u001b[1m1s\u001b[0m 2ms/step - accuracy: 0.8662 - loss: 0.3026\n",
      "Epoch 42/100\n",
      "\u001b[1m617/617\u001b[0m \u001b[32m━━━━━━━━━━━━━━━━━━━━\u001b[0m\u001b[37m\u001b[0m \u001b[1m1s\u001b[0m 2ms/step - accuracy: 0.8702 - loss: 0.2974\n",
      "Epoch 43/100\n",
      "\u001b[1m617/617\u001b[0m \u001b[32m━━━━━━━━━━━━━━━━━━━━\u001b[0m\u001b[37m\u001b[0m \u001b[1m2s\u001b[0m 2ms/step - accuracy: 0.8709 - loss: 0.2906\n",
      "Epoch 44/100\n",
      "\u001b[1m617/617\u001b[0m \u001b[32m━━━━━━━━━━━━━━━━━━━━\u001b[0m\u001b[37m\u001b[0m \u001b[1m1s\u001b[0m 2ms/step - accuracy: 0.8651 - loss: 0.3026  \n",
      "Epoch 45/100\n",
      "\u001b[1m617/617\u001b[0m \u001b[32m━━━━━━━━━━━━━━━━━━━━\u001b[0m\u001b[37m\u001b[0m \u001b[1m2s\u001b[0m 2ms/step - accuracy: 0.8670 - loss: 0.2978\n",
      "Epoch 46/100\n",
      "\u001b[1m617/617\u001b[0m \u001b[32m━━━━━━━━━━━━━━━━━━━━\u001b[0m\u001b[37m\u001b[0m \u001b[1m1s\u001b[0m 2ms/step - accuracy: 0.8672 - loss: 0.2974\n",
      "Epoch 47/100\n",
      "\u001b[1m617/617\u001b[0m \u001b[32m━━━━━━━━━━━━━━━━━━━━\u001b[0m\u001b[37m\u001b[0m \u001b[1m2s\u001b[0m 2ms/step - accuracy: 0.8746 - loss: 0.2909\n",
      "Epoch 48/100\n",
      "\u001b[1m617/617\u001b[0m \u001b[32m━━━━━━━━━━━━━━━━━━━━\u001b[0m\u001b[37m\u001b[0m \u001b[1m1s\u001b[0m 2ms/step - accuracy: 0.8728 - loss: 0.2899\n",
      "Epoch 49/100\n",
      "\u001b[1m617/617\u001b[0m \u001b[32m━━━━━━━━━━━━━━━━━━━━\u001b[0m\u001b[37m\u001b[0m \u001b[1m1s\u001b[0m 2ms/step - accuracy: 0.8678 - loss: 0.3004\n",
      "Epoch 50/100\n",
      "\u001b[1m617/617\u001b[0m \u001b[32m━━━━━━━━━━━━━━━━━━━━\u001b[0m\u001b[37m\u001b[0m \u001b[1m1s\u001b[0m 2ms/step - accuracy: 0.8690 - loss: 0.2936\n",
      "Epoch 51/100\n",
      "\u001b[1m617/617\u001b[0m \u001b[32m━━━━━━━━━━━━━━━━━━━━\u001b[0m\u001b[37m\u001b[0m \u001b[1m1s\u001b[0m 2ms/step - accuracy: 0.8664 - loss: 0.2959\n",
      "Epoch 52/100\n",
      "\u001b[1m617/617\u001b[0m \u001b[32m━━━━━━━━━━━━━━━━━━━━\u001b[0m\u001b[37m\u001b[0m \u001b[1m1s\u001b[0m 2ms/step - accuracy: 0.8724 - loss: 0.2915\n",
      "Epoch 53/100\n",
      "\u001b[1m617/617\u001b[0m \u001b[32m━━━━━━━━━━━━━━━━━━━━\u001b[0m\u001b[37m\u001b[0m \u001b[1m3s\u001b[0m 2ms/step - accuracy: 0.8693 - loss: 0.2956\n",
      "Epoch 54/100\n",
      "\u001b[1m617/617\u001b[0m \u001b[32m━━━━━━━━━━━━━━━━━━━━\u001b[0m\u001b[37m\u001b[0m \u001b[1m1s\u001b[0m 2ms/step - accuracy: 0.8679 - loss: 0.3002  \n",
      "Epoch 55/100\n",
      "\u001b[1m617/617\u001b[0m \u001b[32m━━━━━━━━━━━━━━━━━━━━\u001b[0m\u001b[37m\u001b[0m \u001b[1m2s\u001b[0m 2ms/step - accuracy: 0.8645 - loss: 0.2998\n",
      "Epoch 56/100\n",
      "\u001b[1m617/617\u001b[0m \u001b[32m━━━━━━━━━━━━━━━━━━━━\u001b[0m\u001b[37m\u001b[0m \u001b[1m1s\u001b[0m 2ms/step - accuracy: 0.8690 - loss: 0.2959\n",
      "Epoch 57/100\n",
      "\u001b[1m617/617\u001b[0m \u001b[32m━━━━━━━━━━━━━━━━━━━━\u001b[0m\u001b[37m\u001b[0m \u001b[1m3s\u001b[0m 2ms/step - accuracy: 0.8726 - loss: 0.2886\n",
      "Epoch 58/100\n",
      "\u001b[1m617/617\u001b[0m \u001b[32m━━━━━━━━━━━━━━━━━━━━\u001b[0m\u001b[37m\u001b[0m \u001b[1m1s\u001b[0m 2ms/step - accuracy: 0.8679 - loss: 0.2927\n",
      "Epoch 59/100\n",
      "\u001b[1m617/617\u001b[0m \u001b[32m━━━━━━━━━━━━━━━━━━━━\u001b[0m\u001b[37m\u001b[0m \u001b[1m1s\u001b[0m 2ms/step - accuracy: 0.8695 - loss: 0.2914\n",
      "Epoch 60/100\n",
      "\u001b[1m617/617\u001b[0m \u001b[32m━━━━━━━━━━━━━━━━━━━━\u001b[0m\u001b[37m\u001b[0m \u001b[1m1s\u001b[0m 2ms/step - accuracy: 0.8718 - loss: 0.2874\n",
      "Epoch 61/100\n",
      "\u001b[1m617/617\u001b[0m \u001b[32m━━━━━━━━━━━━━━━━━━━━\u001b[0m\u001b[37m\u001b[0m \u001b[1m1s\u001b[0m 2ms/step - accuracy: 0.8723 - loss: 0.2926  \n",
      "Epoch 62/100\n",
      "\u001b[1m617/617\u001b[0m \u001b[32m━━━━━━━━━━━━━━━━━━━━\u001b[0m\u001b[37m\u001b[0m \u001b[1m1s\u001b[0m 2ms/step - accuracy: 0.8735 - loss: 0.2895\n",
      "Epoch 63/100\n",
      "\u001b[1m617/617\u001b[0m \u001b[32m━━━━━━━━━━━━━━━━━━━━\u001b[0m\u001b[37m\u001b[0m \u001b[1m1s\u001b[0m 2ms/step - accuracy: 0.8706 - loss: 0.2919\n",
      "Epoch 64/100\n",
      "\u001b[1m617/617\u001b[0m \u001b[32m━━━━━━━━━━━━━━━━━━━━\u001b[0m\u001b[37m\u001b[0m \u001b[1m1s\u001b[0m 2ms/step - accuracy: 0.8713 - loss: 0.2929    \n",
      "Epoch 65/100\n",
      "\u001b[1m617/617\u001b[0m \u001b[32m━━━━━━━━━━━━━━━━━━━━\u001b[0m\u001b[37m\u001b[0m \u001b[1m2s\u001b[0m 2ms/step - accuracy: 0.8697 - loss: 0.2921\n",
      "Epoch 66/100\n",
      "\u001b[1m617/617\u001b[0m \u001b[32m━━━━━━━━━━━━━━━━━━━━\u001b[0m\u001b[37m\u001b[0m \u001b[1m1s\u001b[0m 2ms/step - accuracy: 0.8746 - loss: 0.2855\n",
      "Epoch 67/100\n",
      "\u001b[1m617/617\u001b[0m \u001b[32m━━━━━━━━━━━━━━━━━━━━\u001b[0m\u001b[37m\u001b[0m \u001b[1m1s\u001b[0m 2ms/step - accuracy: 0.8695 - loss: 0.2922\n",
      "Epoch 68/100\n",
      "\u001b[1m617/617\u001b[0m \u001b[32m━━━━━━━━━━━━━━━━━━━━\u001b[0m\u001b[37m\u001b[0m \u001b[1m3s\u001b[0m 2ms/step - accuracy: 0.8766 - loss: 0.2810\n",
      "Epoch 69/100\n",
      "\u001b[1m617/617\u001b[0m \u001b[32m━━━━━━━━━━━━━━━━━━━━\u001b[0m\u001b[37m\u001b[0m \u001b[1m1s\u001b[0m 2ms/step - accuracy: 0.8728 - loss: 0.2862  \n",
      "Epoch 70/100\n",
      "\u001b[1m617/617\u001b[0m \u001b[32m━━━━━━━━━━━━━━━━━━━━\u001b[0m\u001b[37m\u001b[0m \u001b[1m3s\u001b[0m 2ms/step - accuracy: 0.8746 - loss: 0.2873\n",
      "Epoch 71/100\n",
      "\u001b[1m617/617\u001b[0m \u001b[32m━━━━━━━━━━━━━━━━━━━━\u001b[0m\u001b[37m\u001b[0m \u001b[1m3s\u001b[0m 2ms/step - accuracy: 0.8720 - loss: 0.2865\n",
      "Epoch 72/100\n",
      "\u001b[1m617/617\u001b[0m \u001b[32m━━━━━━━━━━━━━━━━━━━━\u001b[0m\u001b[37m\u001b[0m \u001b[1m1s\u001b[0m 2ms/step - accuracy: 0.8747 - loss: 0.2824  \n",
      "Epoch 73/100\n",
      "\u001b[1m617/617\u001b[0m \u001b[32m━━━━━━━━━━━━━━━━━━━━\u001b[0m\u001b[37m\u001b[0m \u001b[1m2s\u001b[0m 2ms/step - accuracy: 0.8704 - loss: 0.2910\n",
      "Epoch 74/100\n",
      "\u001b[1m617/617\u001b[0m \u001b[32m━━━━━━━━━━━━━━━━━━━━\u001b[0m\u001b[37m\u001b[0m \u001b[1m3s\u001b[0m 2ms/step - accuracy: 0.8717 - loss: 0.2899\n",
      "Epoch 75/100\n",
      "\u001b[1m617/617\u001b[0m \u001b[32m━━━━━━━━━━━━━━━━━━━━\u001b[0m\u001b[37m\u001b[0m \u001b[1m3s\u001b[0m 2ms/step - accuracy: 0.8719 - loss: 0.2853\n",
      "Epoch 76/100\n",
      "\u001b[1m617/617\u001b[0m \u001b[32m━━━━━━━━━━━━━━━━━━━━\u001b[0m\u001b[37m\u001b[0m \u001b[1m1s\u001b[0m 2ms/step - accuracy: 0.8686 - loss: 0.2910\n",
      "Epoch 77/100\n",
      "\u001b[1m617/617\u001b[0m \u001b[32m━━━━━━━━━━━━━━━━━━━━\u001b[0m\u001b[37m\u001b[0m \u001b[1m1s\u001b[0m 2ms/step - accuracy: 0.8751 - loss: 0.2818\n",
      "Epoch 78/100\n",
      "\u001b[1m617/617\u001b[0m \u001b[32m━━━━━━━━━━━━━━━━━━━━\u001b[0m\u001b[37m\u001b[0m \u001b[1m1s\u001b[0m 2ms/step - accuracy: 0.8754 - loss: 0.2835  \n",
      "Epoch 79/100\n",
      "\u001b[1m617/617\u001b[0m \u001b[32m━━━━━━━━━━━━━━━━━━━━\u001b[0m\u001b[37m\u001b[0m \u001b[1m1s\u001b[0m 2ms/step - accuracy: 0.8752 - loss: 0.2864  \n",
      "Epoch 80/100\n",
      "\u001b[1m617/617\u001b[0m \u001b[32m━━━━━━━━━━━━━━━━━━━━\u001b[0m\u001b[37m\u001b[0m \u001b[1m1s\u001b[0m 2ms/step - accuracy: 0.8774 - loss: 0.2795\n",
      "Epoch 81/100\n",
      "\u001b[1m617/617\u001b[0m \u001b[32m━━━━━━━━━━━━━━━━━━━━\u001b[0m\u001b[37m\u001b[0m \u001b[1m2s\u001b[0m 2ms/step - accuracy: 0.8752 - loss: 0.2850\n",
      "Epoch 82/100\n",
      "\u001b[1m617/617\u001b[0m \u001b[32m━━━━━━━━━━━━━━━━━━━━\u001b[0m\u001b[37m\u001b[0m \u001b[1m1s\u001b[0m 2ms/step - accuracy: 0.8774 - loss: 0.2769\n",
      "Epoch 83/100\n",
      "\u001b[1m617/617\u001b[0m \u001b[32m━━━━━━━━━━━━━━━━━━━━\u001b[0m\u001b[37m\u001b[0m \u001b[1m1s\u001b[0m 2ms/step - accuracy: 0.8768 - loss: 0.2833\n",
      "Epoch 84/100\n",
      "\u001b[1m617/617\u001b[0m \u001b[32m━━━━━━━━━━━━━━━━━━━━\u001b[0m\u001b[37m\u001b[0m \u001b[1m1s\u001b[0m 2ms/step - accuracy: 0.8728 - loss: 0.2849\n",
      "Epoch 85/100\n",
      "\u001b[1m617/617\u001b[0m \u001b[32m━━━━━━━━━━━━━━━━━━━━\u001b[0m\u001b[37m\u001b[0m \u001b[1m1s\u001b[0m 2ms/step - accuracy: 0.8775 - loss: 0.2795\n",
      "Epoch 86/100\n",
      "\u001b[1m617/617\u001b[0m \u001b[32m━━━━━━━━━━━━━━━━━━━━\u001b[0m\u001b[37m\u001b[0m \u001b[1m1s\u001b[0m 2ms/step - accuracy: 0.8763 - loss: 0.2762\n",
      "Epoch 87/100\n",
      "\u001b[1m617/617\u001b[0m \u001b[32m━━━━━━━━━━━━━━━━━━━━\u001b[0m\u001b[37m\u001b[0m \u001b[1m1s\u001b[0m 1ms/step - accuracy: 0.8772 - loss: 0.2801  \n",
      "Epoch 88/100\n",
      "\u001b[1m617/617\u001b[0m \u001b[32m━━━━━━━━━━━━━━━━━━━━\u001b[0m\u001b[37m\u001b[0m \u001b[1m1s\u001b[0m 2ms/step - accuracy: 0.8735 - loss: 0.2854  \n",
      "Epoch 89/100\n",
      "\u001b[1m617/617\u001b[0m \u001b[32m━━━━━━━━━━━━━━━━━━━━\u001b[0m\u001b[37m\u001b[0m \u001b[1m1s\u001b[0m 2ms/step - accuracy: 0.8753 - loss: 0.2826    \n",
      "Epoch 90/100\n",
      "\u001b[1m617/617\u001b[0m \u001b[32m━━━━━━━━━━━━━━━━━━━━\u001b[0m\u001b[37m\u001b[0m \u001b[1m2s\u001b[0m 2ms/step - accuracy: 0.8764 - loss: 0.2847\n",
      "Epoch 91/100\n",
      "\u001b[1m617/617\u001b[0m \u001b[32m━━━━━━━━━━━━━━━━━━━━\u001b[0m\u001b[37m\u001b[0m \u001b[1m1s\u001b[0m 2ms/step - accuracy: 0.8760 - loss: 0.2770\n",
      "Epoch 92/100\n",
      "\u001b[1m617/617\u001b[0m \u001b[32m━━━━━━━━━━━━━━━━━━━━\u001b[0m\u001b[37m\u001b[0m \u001b[1m2s\u001b[0m 2ms/step - accuracy: 0.8775 - loss: 0.2776\n",
      "Epoch 93/100\n",
      "\u001b[1m617/617\u001b[0m \u001b[32m━━━━━━━━━━━━━━━━━━━━\u001b[0m\u001b[37m\u001b[0m \u001b[1m1s\u001b[0m 2ms/step - accuracy: 0.8812 - loss: 0.2739\n",
      "Epoch 94/100\n",
      "\u001b[1m617/617\u001b[0m \u001b[32m━━━━━━━━━━━━━━━━━━━━\u001b[0m\u001b[37m\u001b[0m \u001b[1m1s\u001b[0m 2ms/step - accuracy: 0.8771 - loss: 0.2779  \n",
      "Epoch 95/100\n",
      "\u001b[1m617/617\u001b[0m \u001b[32m━━━━━━━━━━━━━━━━━━━━\u001b[0m\u001b[37m\u001b[0m \u001b[1m3s\u001b[0m 2ms/step - accuracy: 0.8734 - loss: 0.2804\n",
      "Epoch 96/100\n",
      "\u001b[1m617/617\u001b[0m \u001b[32m━━━━━━━━━━━━━━━━━━━━\u001b[0m\u001b[37m\u001b[0m \u001b[1m1s\u001b[0m 2ms/step - accuracy: 0.8726 - loss: 0.2764  \n",
      "Epoch 97/100\n",
      "\u001b[1m617/617\u001b[0m \u001b[32m━━━━━━━━━━━━━━━━━━━━\u001b[0m\u001b[37m\u001b[0m \u001b[1m1s\u001b[0m 2ms/step - accuracy: 0.8756 - loss: 0.2783  \n",
      "Epoch 98/100\n",
      "\u001b[1m617/617\u001b[0m \u001b[32m━━━━━━━━━━━━━━━━━━━━\u001b[0m\u001b[37m\u001b[0m \u001b[1m1s\u001b[0m 2ms/step - accuracy: 0.8753 - loss: 0.2819\n",
      "Epoch 99/100\n",
      "\u001b[1m617/617\u001b[0m \u001b[32m━━━━━━━━━━━━━━━━━━━━\u001b[0m\u001b[37m\u001b[0m \u001b[1m1s\u001b[0m 2ms/step - accuracy: 0.8757 - loss: 0.2773\n",
      "Epoch 100/100\n",
      "\u001b[1m617/617\u001b[0m \u001b[32m━━━━━━━━━━━━━━━━━━━━\u001b[0m\u001b[37m\u001b[0m \u001b[1m1s\u001b[0m 2ms/step - accuracy: 0.8800 - loss: 0.2662\n"
     ]
    }
   ],
   "source": [
    "history=nn_model.fit(X_train_scaled, y_train_resampled,epochs=100,batch_size=32)"
   ]
  },
  {
   "cell_type": "markdown",
   "id": "e77f66f4-094e-4d63-a0e5-7dcae9bfd97d",
   "metadata": {},
   "source": [
    "#### Make Predictions"
   ]
  },
  {
   "cell_type": "code",
   "execution_count": 40,
   "id": "b637e8e5-9bf9-4a2e-a200-18ae0a3e6047",
   "metadata": {},
   "outputs": [
    {
     "name": "stdout",
     "output_type": "stream",
     "text": [
      "\u001b[1m119/119\u001b[0m \u001b[32m━━━━━━━━━━━━━━━━━━━━\u001b[0m\u001b[37m\u001b[0m \u001b[1m0s\u001b[0m 2ms/step   \n"
     ]
    }
   ],
   "source": [
    "y_pred_nn=nn_model.predict(X_test_scaled)\n",
    "\n",
    "y_pred_nn_binary = (y_pred_nn > 0.5).astype(int)\n",
    "\n",
    "accuracy_nn = accuracy_score(y_test, y_pred_nn_binary)\n",
    "report_nn = classification_report(y_test, y_pred_nn_binary)"
   ]
  },
  {
   "cell_type": "code",
   "execution_count": 41,
   "id": "b5f68673-719a-48a4-9540-02d4b85423c1",
   "metadata": {},
   "outputs": [
    {
     "data": {
      "text/plain": [
       "'              precision    recall  f1-score   support\\n\\n           0       0.82      0.79      0.81      1338\\n           1       0.89      0.91      0.90      2466\\n\\n    accuracy                           0.87      3804\\n   macro avg       0.86      0.85      0.85      3804\\nweighted avg       0.86      0.87      0.87      3804\\n'"
      ]
     },
     "execution_count": 41,
     "metadata": {},
     "output_type": "execute_result"
    }
   ],
   "source": [
    "report_nn"
   ]
  },
  {
   "cell_type": "markdown",
   "id": "eb0a6803-1cf6-4fa6-86a9-334ef22689bd",
   "metadata": {},
   "source": [
    "#### Evaluate Performance"
   ]
  },
  {
   "cell_type": "code",
   "execution_count": 43,
   "id": "f5d11a91-2f79-4920-8f2a-6caf4f864e4e",
   "metadata": {},
   "outputs": [
    {
     "name": "stdout",
     "output_type": "stream",
     "text": [
      "              precision    recall  f1-score      support\n",
      "0              0.822933  0.788490  0.805344  1338.000000\n",
      "1              0.887787  0.907948  0.897755  2466.000000\n",
      "accuracy       0.865931  0.865931  0.865931     0.865931\n",
      "macro avg      0.855360  0.848219  0.851549  3804.000000\n",
      "weighted avg   0.864976  0.865931  0.865250  3804.000000\n"
     ]
    }
   ],
   "source": [
    "report = classification_report(y_test, y_pred_nn_binary, output_dict=True)\n",
    "report_df = pd.DataFrame(report).transpose()\n",
    "\n",
    "print(report_df)\n"
   ]
  },
  {
   "cell_type": "code",
   "execution_count": null,
   "id": "31b58f37-3d2f-4317-83fa-345b2db59994",
   "metadata": {},
   "outputs": [],
   "source": []
  },
  {
   "cell_type": "code",
   "execution_count": null,
   "id": "b4b1de59-0e13-4e78-96e5-c088e363772f",
   "metadata": {},
   "outputs": [],
   "source": []
  }
 ],
 "metadata": {
  "kernelspec": {
   "display_name": "Python [conda env:base] *",
   "language": "python",
   "name": "conda-base-py"
  },
  "language_info": {
   "codemirror_mode": {
    "name": "ipython",
    "version": 3
   },
   "file_extension": ".py",
   "mimetype": "text/x-python",
   "name": "python",
   "nbconvert_exporter": "python",
   "pygments_lexer": "ipython3",
   "version": "3.11.7"
  }
 },
 "nbformat": 4,
 "nbformat_minor": 5
}
